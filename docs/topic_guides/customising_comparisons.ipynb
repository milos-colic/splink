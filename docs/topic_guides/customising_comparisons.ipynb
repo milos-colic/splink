{
 "cells": [
  {
   "cell_type": "markdown",
   "metadata": {},
   "source": [
    "# Defining and customising how record comparisons are made\n",
    "\n",
    "A key feature of Splink is the ability to customise how record comparisons are made - that is, how similarity is defined for different data types.  For example, the definition of similarity that is appropriate for a date of birth field is different than for a first name field.\n",
    "\n",
    "By tailoring the definitions of similarity, linking models are more effectively able to distinguish beteween different gradations of similarity, leading to more accurate data linking models.\n",
    "\n",
    "Note that for performance reasons, Splink requires the user to define `n` discrete levels (gradations) of similarity.\n",
    "\n",
    "## Comparing information\n",
    "\n",
    "Comparisons are defined on pairwise record comparisons.  Suppose for instance your data contains `first_name` and `surname` and `dob`:\n",
    "\n",
    "|id |first_name|surname|dob       |\n",
    "|---|----------|-------|----------|\n",
    "|1  |john      |smith  |1991-04-11|\n",
    "|2  |jon       |smith  |1991-04-17|\n",
    "|3  |john      |smyth  |1991-04-11|\n",
    "\n",
    "To compare these records, at the blocking stage, Splink will set these records against each other in a table of pairwise record comparisons:\n",
    "\n",
    "|id_l|id_r|first_name_l|first_name_r|surname_l|surname_r|dob_l     |dob_r     |\n",
    "|----|----|------------|------------|---------|---------|----------|----------|\n",
    "|1   |2   |john        |jon         |smith    |smith    |1991-04-11|1991-04-17|\n",
    "|1   |3   |john        |john        |smith    |smyth    |1991-04-11|1991-04-11|\n",
    "|2   |3   |jon         |john        |smith    |smyth    |1991-04-17|1991-04-11|\n",
    "\n",
    "\n",
    "When defining comparisons, we are defining rules that operate on each row of this latter table of pairwise comparisons\n",
    "\n",
    "## `Comparisons` and `ComparisonLevels`\n",
    "\n",
    "A Splink model contains a collection of `Comparisons` and `ComparisonLevels` organised in a hierarchy.  An example is as follows:\n",
    "\n",
    "```\n",
    "Data Linking Model\n",
    "├─-- Comparison: Date of birth\n",
    "│    ├─-- ComparisonLevel: Exact match\n",
    "│    ├─-- ComparisonLevel: Up to one character difference\n",
    "│    ├─-- ComparisonLevel: Up to three character difference\n",
    "│    ├─-- ComparisonLevel: All other\n",
    "├─-- Comparison: Name\n",
    "│    ├─-- ComparisonLevel: Exact match on first name and surname\n",
    "│    ├─-- ComparisonLevel: Exact match on first name\n",
    "│    ├─-- etc.\n",
    "```\n",
    "\n",
    "A fuller description of `Comaprison`s and `ComparisonLevel`s can be found [here](https://moj-analytical-services.github.io/splink/comparison.html) and [here](https://moj-analytical-services.github.io/splink/comparison_level.html) respectively.\n",
    "\n",
    "\n",
    "How are these comparisons specified?\n",
    "\n"
   ]
  },
  {
   "cell_type": "markdown",
   "metadata": {},
   "source": [
    "### Three ways of specifying Comparisons\n",
    "\n",
    "In Splink, there are three ways of specifying `Comparisons`:\n",
    "\n",
    "- Using pre-baked comparisons from a backend's `ComparisonLibrary`.   (Most simple/succinct)\n",
    "- Composing pre-defined `ComparisonLevels` from a backend's `ComparisonLevelLibrary`\n",
    "- Writing a full spec of a `Comparison` by hand (most verbose/flexible)"
   ]
  },
  {
   "cell_type": "markdown",
   "metadata": {},
   "source": [
    "## Method 1: Using the `ComparisonLibrary`\n",
    "\n",
    "The `ComparisonLibrary` for a each backend (`DuckDB`, `Spark`, etc.) contains pre-baked similarity functions that cover many common use cases.\n",
    "\n",
    "These functions generate an entire `Comparison`, composed of several `ComparisonLevels`\n",
    "\n",
    "The following provides an example of using the `ComparisonLibrary` for Spark"
   ]
  },
  {
   "cell_type": "code",
   "execution_count": 1,
   "metadata": {},
   "outputs": [
    {
     "name": "stdout",
     "output_type": "stream",
     "text": [
      "Comparison 'Exact match vs. anything else' of first_name.\n",
      "Similarity is assessed using the following ComparisonLevels:\n",
      "    - 'Null' with SQL rule: first_name_l IS NULL OR first_name_r IS NULL\n",
      "    - 'Exact match' with SQL rule: first_name_l = first_name_r\n",
      "    - 'All other comparisons' with SQL rule: ELSE\n",
      "\n"
     ]
    }
   ],
   "source": [
    "from splink.duckdb.duckdb_comparison_library import (\n",
    "    exact_match,\n",
    "    levenshtein_at_thresholds,\n",
    ")\n",
    "\n",
    "first_name_comparison = exact_match(\"first_name\")\n",
    "print(first_name_comparison.human_readable_description)"
   ]
  },
  {
   "cell_type": "markdown",
   "metadata": {},
   "source": [
    "Note that, under the hood, these functions generate a Python dictionary, which conforms to the underlying `.json` specification of a model:"
   ]
  },
  {
   "cell_type": "code",
   "execution_count": 2,
   "metadata": {},
   "outputs": [
    {
     "data": {
      "text/plain": [
       "{'output_column_name': 'first_name',\n",
       " 'comparison_levels': [{'sql_condition': 'first_name_l IS NULL OR first_name_r IS NULL',\n",
       "   'label_for_charts': 'Null',\n",
       "   'is_null_level': True},\n",
       "  {'sql_condition': 'first_name_l = first_name_r',\n",
       "   'label_for_charts': 'Exact match'},\n",
       "  {'sql_condition': 'ELSE', 'label_for_charts': 'All other comparisons'}],\n",
       " 'comparison_description': 'Exact match vs. anything else'}"
      ]
     },
     "execution_count": 2,
     "metadata": {},
     "output_type": "execute_result"
    }
   ],
   "source": [
    "first_name_comparison.as_dict()"
   ]
  },
  {
   "cell_type": "markdown",
   "metadata": {},
   "source": [
    "We can now generate a second, more complex comparison:"
   ]
  },
  {
   "cell_type": "code",
   "execution_count": 3,
   "metadata": {},
   "outputs": [
    {
     "name": "stdout",
     "output_type": "stream",
     "text": [
      "Comparison 'Exact match vs. levenshtein at thresholds 1, 2 vs. anything else' of dob.\n",
      "Similarity is assessed using the following ComparisonLevels:\n",
      "    - 'Null' with SQL rule: dob_l IS NULL OR dob_r IS NULL\n",
      "    - 'Exact match' with SQL rule: dob_l = dob_r\n",
      "    - 'levenshtein <= 1' with SQL rule: levenshtein(dob_l, dob_r) <= 1\n",
      "    - 'levenshtein <= 2' with SQL rule: levenshtein(dob_l, dob_r) <= 2\n",
      "    - 'All other comparisons' with SQL rule: ELSE\n",
      "\n"
     ]
    }
   ],
   "source": [
    "from splink.duckdb.duckdb_comparison_library import (\n",
    "    exact_match,\n",
    "    levenshtein_at_thresholds,\n",
    ")\n",
    "\n",
    "dob_comparison = levenshtein_at_thresholds(\"dob\", [1, 2])\n",
    "print(dob_comparison.human_readable_description)"
   ]
  },
  {
   "cell_type": "markdown",
   "metadata": {},
   "source": [
    "These `Comparisons` can be specified in a data linking model as follows:"
   ]
  },
  {
   "cell_type": "code",
   "execution_count": 4,
   "metadata": {},
   "outputs": [],
   "source": [
    "settings = {\n",
    "    \"link_type\": \"dedupe_only\",\n",
    "    \"blocking_rules_to_generate_predictions\": [\n",
    "        \"l.first_name = r.first_name\",\n",
    "        \"l.surname = r.surname\",\n",
    "    ],\n",
    "    \"comparisons\": [\n",
    "        exact_match(\"first_name\"),\n",
    "        levenshtein_at_thresholds(\"dob\", [1, 2]),\n",
    "\n",
    "    ]\n",
    "}"
   ]
  },
  {
   "cell_type": "markdown",
   "metadata": {},
   "source": [
    "## Method 2: `ComparisonLevels`\n",
    "\n",
    "The `ComparisonLevels` API provides a lower-level API that gives the user greater control over their comparisons.\n",
    "\n",
    "For example, the user may wish to specify a comparison that has levels for a match on dmetaphone and jaro_winkler of the `first_name` field.  \n",
    "\n",
    "The below example assumes the user has derived a column `dmeta_first_name` which contains the dmetaphone of the first name."
   ]
  },
  {
   "cell_type": "code",
   "execution_count": 5,
   "metadata": {},
   "outputs": [
    {
     "name": "stdout",
     "output_type": "stream",
     "text": [
      "Comparison 'First name jaro dmeta' of first_name and dmeta_first_name.\n",
      "Similarity is assessed using the following ComparisonLevels:\n",
      "    - 'Null' with SQL rule: first_name_l IS NULL OR first_name_r IS NULL\n",
      "    - 'Exact match' with SQL rule: first_name_l = first_name_r\n",
      "    - 'Exact match' with SQL rule: dmeta_first_name_l = dmeta_first_name_r\n",
      "    - 'All other comparisons' with SQL rule: ELSE\n",
      "\n"
     ]
    }
   ],
   "source": [
    "from splink.spark.spark_comparison_level_library import exact_match_level, null_level, else_level\n",
    "from splink.spark.spark_comparison_library import levenshtein_at_thresholds\n",
    "\n",
    "comparison_first_name = {\n",
    "    'output_column_name': 'first_name',\n",
    "    'comparison_description': 'First name jaro dmeta',\n",
    "    'comparison_levels': [\n",
    "        null_level(\"first_name\"),\n",
    "        exact_match_level(\"first_name\", term_frequency_adjustments=True),\n",
    "        exact_match_level(\"dmeta_first_name\", term_frequency_adjustments=True),\n",
    "        else_level()\n",
    "    ],\n",
    "}\n",
    "\n",
    "\n",
    "\n",
    "from splink.comparison import Comparison\n",
    "print(Comparison(comparison_first_name).human_readable_description)"
   ]
  },
  {
   "cell_type": "markdown",
   "metadata": {},
   "source": [
    "This can now be specified in the settings dictionary as follows:"
   ]
  },
  {
   "cell_type": "code",
   "execution_count": 6,
   "metadata": {},
   "outputs": [],
   "source": [
    "settings = {\n",
    "    \"link_type\": \"dedupe_only\",\n",
    "    \"blocking_rules_to_generate_predictions\": [\n",
    "        \"l.first_name = r.first_name\",\n",
    "        \"l.surname = r.surname\",\n",
    "    ],\n",
    "    \"comparisons\": [\n",
    "        comparison_first_name, # The comparison specified above using ComparisonLevels\n",
    "        levenshtein_at_thresholds(\"dob\", [1, 2], term_frequency_adjustments=True), # From comparison_library \n",
    "\n",
    "    ]\n",
    "}\n"
   ]
  },
  {
   "cell_type": "markdown",
   "metadata": {},
   "source": [
    "## Method 3: Providing the spec as a dictionary\n",
    "\n",
    "Ultimately, comparisons are specified as a dictionary which conforms to [the formal `jsonschema` specification of the settings dictionary](https://github.com/moj-analytical-services/splink/blob/master/splink/files/settings_jsonschema.json) and [here](https://moj-analytical-services.github.io/splink/).\n",
    "\n",
    "The library functions described above are convenience functions that provide a shorthand way to produce valid dictionaries.\n",
    "\n",
    "For maximium control over your settings, you can specify your comparisons as a dictionary."
   ]
  },
  {
   "cell_type": "code",
   "execution_count": 7,
   "metadata": {},
   "outputs": [],
   "source": [
    "comparison_first_name = {\n",
    "    \"output_column_name\": \"first_name\",\n",
    "    \"comparison_description\": \"First name jaro dmeta\",\n",
    "    \"comparison_levels\": [\n",
    "        {\n",
    "            \"sql_condition\": \"first_name_l IS NULL OR first_name_r IS NULL\",\n",
    "            \"label_for_charts\": \"Null\",\n",
    "            \"is_null_level\": True,\n",
    "        },\n",
    "        {\n",
    "            \"sql_condition\": \"first_name_l = first_name_r\",\n",
    "            \"label_for_charts\": \"Exact match\",\n",
    "            \"tf_adjustment_column\": \"first_name\",\n",
    "            \"tf_adjustment_weight\": 1.0,\n",
    "            \"tf_minimum_u_value\": 0.001,\n",
    "        },\n",
    "        {\n",
    "            \"sql_condition\": \"dmeta_first_name_l = dmeta_first_name_r\",\n",
    "            \"label_for_charts\": \"Exact match\",\n",
    "            \"tf_adjustment_column\": \"dmeta_first_name\",\n",
    "            \"tf_adjustment_weight\": 1.0,\n",
    "        },\n",
    "        {\n",
    "            \"sql_condition\": \"jaro_winkler_sim(first_name_l, first_name_r) > 0.8\",\n",
    "            \"label_for_charts\": \"Exact match\",\n",
    "            \"tf_adjustment_column\": \"first_name\",\n",
    "            \"tf_adjustment_weight\": 0.5,\n",
    "            \"tf_minimum_u_value\": 0.001,\n",
    "        },\n",
    "        {\"sql_condition\": \"ELSE\", \"label_for_charts\": \"All other comparisons\"},\n",
    "    ],\n",
    "    \n",
    "}\n",
    "\n",
    "settings = {\n",
    "    \"link_type\": \"dedupe_only\",\n",
    "    \"blocking_rules_to_generate_predictions\": [\n",
    "        \"l.first_name = r.first_name\",\n",
    "        \"l.surname = r.surname\",\n",
    "    ],\n",
    "    \"comparisons\": [\n",
    "        comparison_first_name, # The comparison specified above using the dict\n",
    "        levenshtein_at_thresholds(\"dob\", [1, 2], term_frequency_adjustments=True), # From comparison_library \n",
    "\n",
    "    ]\n",
    "}\n"
   ]
  }
 ],
 "metadata": {
  "kernelspec": {
   "display_name": "Python 3 (ipykernel)",
   "language": "python",
   "name": "python3"
  },
  "language_info": {
   "codemirror_mode": {
    "name": "ipython",
    "version": 3
   },
   "file_extension": ".py",
   "mimetype": "text/x-python",
   "name": "python",
   "nbconvert_exporter": "python",
   "pygments_lexer": "ipython3",
   "version": "3.8.3"
  },
  "vscode": {
   "interpreter": {
    "hash": "b7acd20079f690b8e4bd301d8b4d6cf58b4dbf05063e13f3b39ce70fc3c4110c"
   }
  }
 },
 "nbformat": 4,
 "nbformat_minor": 4
}
